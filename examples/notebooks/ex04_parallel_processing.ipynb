{
 "cells": [
  {
   "cell_type": "markdown",
   "metadata": {},
   "source": [
    "# Parallel processing with Pastastore\n",
    "\n",
    "This notebook shows parallel processing capabilities of `PastaStore`.\n",
    "\n",
    "\n",
    "<div class=\"alert alert-warning\">\n",
    "\n",
    "<strong>Note</strong> \n",
    "\n",
    "Parallel processing is platform dependent and may not\n",
    "always work. The current implementation works well for Linux users, though this\n",
    "will likely change with Python 3.13 and higher. For Windows users, parallel\n",
    "solving does not work when called directly from Jupyter Notebooks or IPython.\n",
    "To use parallel solving on Windows, the following code should be used in a\n",
    "Python file. \n",
    "\n",
    "</div>\n",
    "\n",
    "```python\n",
    "from multiprocessing import freeze_support\n",
    "\n",
    "if __name__ == \"__main__\":\n",
    "    freeze_support()\n",
    "    pstore.apply(\"models\", some_func, parallel=True)\n",
    "```"
   ]
  },
  {
   "cell_type": "code",
   "execution_count": 1,
   "metadata": {},
   "outputs": [
    {
     "name": "stdout",
     "output_type": "stream",
     "text": [
      "Pastastore version : 1.11.0\n",
      "\n",
      "Python version     : 3.13.7\n",
      "Pandas version     : 2.3.3\n",
      "Matplotlib version : 3.10.6\n",
      "Pastas version     : 1.11.0\n",
      "PyYAML version     : 6.0.3\n",
      "\n"
     ]
    }
   ],
   "source": [
    "import pastas as ps\n",
    "\n",
    "import pastastore as pst\n",
    "from pastastore.datasets import example_pastastore\n",
    "\n",
    "ps.logger.setLevel(\"ERROR\")  # silence Pastas logger for this notebook\n",
    "pst.show_versions()"
   ]
  },
  {
   "cell_type": "markdown",
   "metadata": {},
   "source": [
    "## Example pastastore\n",
    "\n",
    "Load some example data, create models and solve them to showcase parallel processing."
   ]
  },
  {
   "cell_type": "code",
   "execution_count": 2,
   "metadata": {},
   "outputs": [
    {
     "name": "stdout",
     "output_type": "stream",
     "text": [
      "\u001b[32mPasConnector: library 'oseries' created in '/home/david/github/pastastore/examples/notebooks/temp/my_connector/oseries'\u001b[0m\n",
      "\u001b[32mPasConnector: library 'stresses' created in '/home/david/github/pastastore/examples/notebooks/temp/my_connector/stresses'\u001b[0m\n",
      "\u001b[32mPasConnector: library 'models' created in '/home/david/github/pastastore/examples/notebooks/temp/my_connector/models'\u001b[0m\n",
      "\u001b[32mPasConnector: library 'oseries_models' created in '/home/david/github/pastastore/examples/notebooks/temp/my_connector/oseries_models'\u001b[0m\n",
      "\u001b[32mPasConnector: library 'stresses_models' created in '/home/david/github/pastastore/examples/notebooks/temp/my_connector/stresses_models'\u001b[0m\n"
     ]
    },
    {
     "data": {
      "application/vnd.jupyter.widget-view+json": {
       "model_id": "e1bc571136f94340b212463ee43796ae",
       "version_major": 2,
       "version_minor": 0
      },
      "text/plain": [
       "Bulk creation models:   0%|          | 0/5 [00:00<?, ?it/s]"
      ]
     },
     "metadata": {},
     "output_type": "display_data"
    }
   ],
   "source": [
    "# get the example pastastore\n",
    "conn = pst.PasConnector(\"my_connector\", \"./temp\")\n",
    "# conn = pst.ArcticDBConnector(\"my_connector\", \"lmdb://./temp\")\n",
    "pstore = example_pastastore(conn)\n",
    "pstore.create_models_bulk();"
   ]
  },
  {
   "cell_type": "markdown",
   "metadata": {},
   "source": [
    "## Solving models\n",
    "\n",
    "The `PastaStore.solve_models()` method supports parallel processing."
   ]
  },
  {
   "cell_type": "code",
   "execution_count": 3,
   "metadata": {},
   "outputs": [
    {
     "data": {
      "application/vnd.jupyter.widget-view+json": {
       "model_id": "021b07882ad1451ea98b4a45b5a18b0d",
       "version_major": 2,
       "version_minor": 0
      },
      "text/plain": [
       "Solving models (parallel):   0%|          | 0/5 [00:00<?, ?it/s]"
      ]
     },
     "metadata": {},
     "output_type": "display_data"
    }
   ],
   "source": [
    "pstore.solve_models(parallel=True)"
   ]
  },
  {
   "cell_type": "markdown",
   "metadata": {},
   "source": [
    "## Parallel processing using `.apply()`\n",
    "\n",
    "Define some function that takes a name as input and returns some result. In this case,\n",
    "return the $R^2$ value for each model."
   ]
  },
  {
   "cell_type": "code",
   "execution_count": 4,
   "metadata": {},
   "outputs": [],
   "source": [
    "def rsq(model_name: str) -> float:\n",
    "    \"\"\"Compute the R-squared value of a Pastas model.\"\"\"\n",
    "    ml = pstore.get_models(model_name)\n",
    "    return ml.stats.rsq()"
   ]
  },
  {
   "cell_type": "markdown",
   "metadata": {},
   "source": [
    "We can apply this function to all models in the pastastore using `pstore.apply()`. \n",
    "By default this function is run sequentially. "
   ]
  },
  {
   "cell_type": "code",
   "execution_count": 5,
   "metadata": {},
   "outputs": [
    {
     "data": {
      "application/vnd.jupyter.widget-view+json": {
       "model_id": "5fe26b7e289c4ef79bb309b9972bcf36",
       "version_major": 2,
       "version_minor": 0
      },
      "text/plain": [
       "Applying rsq:   0%|          | 0/5 [00:00<?, ?it/s]"
      ]
     },
     "metadata": {},
     "output_type": "display_data"
    },
    {
     "data": {
      "text/plain": [
       "head_nb5    0.438129\n",
       "head_mw     0.159318\n",
       "oseries1    0.904487\n",
       "oseries2    0.931883\n",
       "oseries3    0.030468\n",
       "dtype: float64"
      ]
     },
     "execution_count": 5,
     "metadata": {},
     "output_type": "execute_result"
    }
   ],
   "source": [
    "pstore.apply(\"models\", rsq, progressbar=True)"
   ]
  },
  {
   "cell_type": "markdown",
   "metadata": {},
   "source": [
    "In order to run this function in parallel, set `parallel=True` in the keyword arguments."
   ]
  },
  {
   "cell_type": "code",
   "execution_count": 6,
   "metadata": {},
   "outputs": [
    {
     "data": {
      "application/vnd.jupyter.widget-view+json": {
       "model_id": "9452f9fa15354653b941148c8e5c2e0d",
       "version_major": 2,
       "version_minor": 0
      },
      "text/plain": [
       "Applying rsq (parallel):   0%|          | 0/5 [00:00<?, ?it/s]"
      ]
     },
     "metadata": {},
     "output_type": "display_data"
    },
    {
     "data": {
      "text/plain": [
       "head_nb5    0.438129\n",
       "head_mw     0.159318\n",
       "oseries1    0.904487\n",
       "oseries2    0.931883\n",
       "oseries3    0.030468\n",
       "dtype: float64"
      ]
     },
     "execution_count": 6,
     "metadata": {},
     "output_type": "execute_result"
    }
   ],
   "source": [
    "pstore.apply(\"models\", rsq, progressbar=True, parallel=True)"
   ]
  },
  {
   "cell_type": "markdown",
   "metadata": {},
   "source": [
    "## Get model statistics\n",
    "\n",
    "The function `pstore.get_statistics` also supports parallel processing."
   ]
  },
  {
   "cell_type": "code",
   "execution_count": 7,
   "metadata": {},
   "outputs": [
    {
     "data": {
      "text/html": [
       "<div>\n",
       "<style scoped>\n",
       "    .dataframe tbody tr th:only-of-type {\n",
       "        vertical-align: middle;\n",
       "    }\n",
       "\n",
       "    .dataframe tbody tr th {\n",
       "        vertical-align: top;\n",
       "    }\n",
       "\n",
       "    .dataframe thead th {\n",
       "        text-align: right;\n",
       "    }\n",
       "</style>\n",
       "<table border=\"1\" class=\"dataframe\">\n",
       "  <thead>\n",
       "    <tr style=\"text-align: right;\">\n",
       "      <th></th>\n",
       "      <th>rsq</th>\n",
       "      <th>mae</th>\n",
       "    </tr>\n",
       "  </thead>\n",
       "  <tbody>\n",
       "    <tr>\n",
       "      <th>head_nb5</th>\n",
       "      <td>0.438129</td>\n",
       "      <td>0.318361</td>\n",
       "    </tr>\n",
       "    <tr>\n",
       "      <th>head_mw</th>\n",
       "      <td>0.159318</td>\n",
       "      <td>0.631517</td>\n",
       "    </tr>\n",
       "    <tr>\n",
       "      <th>oseries1</th>\n",
       "      <td>0.904487</td>\n",
       "      <td>0.091329</td>\n",
       "    </tr>\n",
       "    <tr>\n",
       "      <th>oseries2</th>\n",
       "      <td>0.931883</td>\n",
       "      <td>0.087067</td>\n",
       "    </tr>\n",
       "    <tr>\n",
       "      <th>oseries3</th>\n",
       "      <td>0.030468</td>\n",
       "      <td>0.106254</td>\n",
       "    </tr>\n",
       "  </tbody>\n",
       "</table>\n",
       "</div>"
      ],
      "text/plain": [
       "               rsq       mae\n",
       "head_nb5  0.438129  0.318361\n",
       "head_mw   0.159318  0.631517\n",
       "oseries1  0.904487  0.091329\n",
       "oseries2  0.931883  0.087067\n",
       "oseries3  0.030468  0.106254"
      ]
     },
     "execution_count": 7,
     "metadata": {},
     "output_type": "execute_result"
    }
   ],
   "source": [
    "pstore.get_statistics([\"rsq\", \"mae\"])"
   ]
  },
  {
   "cell_type": "code",
   "execution_count": 8,
   "metadata": {},
   "outputs": [
    {
     "data": {
      "text/html": [
       "<div>\n",
       "<style scoped>\n",
       "    .dataframe tbody tr th:only-of-type {\n",
       "        vertical-align: middle;\n",
       "    }\n",
       "\n",
       "    .dataframe tbody tr th {\n",
       "        vertical-align: top;\n",
       "    }\n",
       "\n",
       "    .dataframe thead th {\n",
       "        text-align: right;\n",
       "    }\n",
       "</style>\n",
       "<table border=\"1\" class=\"dataframe\">\n",
       "  <thead>\n",
       "    <tr style=\"text-align: right;\">\n",
       "      <th></th>\n",
       "      <th>rsq</th>\n",
       "      <th>mae</th>\n",
       "    </tr>\n",
       "    <tr>\n",
       "      <th>_get_statistics</th>\n",
       "      <th></th>\n",
       "      <th></th>\n",
       "    </tr>\n",
       "  </thead>\n",
       "  <tbody>\n",
       "    <tr>\n",
       "      <th>head_nb5</th>\n",
       "      <td>0.438129</td>\n",
       "      <td>0.318361</td>\n",
       "    </tr>\n",
       "    <tr>\n",
       "      <th>head_mw</th>\n",
       "      <td>0.159318</td>\n",
       "      <td>0.631517</td>\n",
       "    </tr>\n",
       "    <tr>\n",
       "      <th>oseries1</th>\n",
       "      <td>0.904487</td>\n",
       "      <td>0.091329</td>\n",
       "    </tr>\n",
       "    <tr>\n",
       "      <th>oseries2</th>\n",
       "      <td>0.931883</td>\n",
       "      <td>0.087067</td>\n",
       "    </tr>\n",
       "    <tr>\n",
       "      <th>oseries3</th>\n",
       "      <td>0.030468</td>\n",
       "      <td>0.106254</td>\n",
       "    </tr>\n",
       "  </tbody>\n",
       "</table>\n",
       "</div>"
      ],
      "text/plain": [
       "                      rsq       mae\n",
       "_get_statistics                    \n",
       "head_nb5         0.438129  0.318361\n",
       "head_mw          0.159318  0.631517\n",
       "oseries1         0.904487  0.091329\n",
       "oseries2         0.931883  0.087067\n",
       "oseries3         0.030468  0.106254"
      ]
     },
     "execution_count": 8,
     "metadata": {},
     "output_type": "execute_result"
    }
   ],
   "source": [
    "pstore.get_statistics([\"rsq\", \"mae\"], parallel=True)"
   ]
  },
  {
   "cell_type": "markdown",
   "metadata": {},
   "source": [
    "## Compute prediction intervals\n",
    "\n",
    "Let's try using a more complex function and passing that to apply to use\n",
    "parallel processing. In this case we want to compute the prediction interval,\n",
    "and pass along the $\\alpha$ value via the keyword arguments."
   ]
  },
  {
   "cell_type": "code",
   "execution_count": 9,
   "metadata": {},
   "outputs": [],
   "source": [
    "def prediction_interval(model_name, **kwargs):\n",
    "    \"\"\"Compute the prediction interval for a Pastas model.\"\"\"\n",
    "    ml = pstore.get_models(model_name)\n",
    "    return ml.solver.prediction_interval(**kwargs)"
   ]
  },
  {
   "cell_type": "code",
   "execution_count": 10,
   "metadata": {},
   "outputs": [
    {
     "data": {
      "application/vnd.jupyter.widget-view+json": {
       "model_id": "877a4cb6f0f64fc0b6d0fde71dce196d",
       "version_major": 2,
       "version_minor": 0
      },
      "text/plain": [
       "Applying prediction_interval:   0%|          | 0/5 [00:00<?, ?it/s]"
      ]
     },
     "metadata": {},
     "output_type": "display_data"
    },
    {
     "data": {
      "text/html": [
       "<div>\n",
       "<style scoped>\n",
       "    .dataframe tbody tr th:only-of-type {\n",
       "        vertical-align: middle;\n",
       "    }\n",
       "\n",
       "    .dataframe tbody tr th {\n",
       "        vertical-align: top;\n",
       "    }\n",
       "\n",
       "    .dataframe thead tr th {\n",
       "        text-align: left;\n",
       "    }\n",
       "</style>\n",
       "<table border=\"1\" class=\"dataframe\">\n",
       "  <thead>\n",
       "    <tr>\n",
       "      <th></th>\n",
       "      <th colspan=\"2\" halign=\"left\">head_nb5</th>\n",
       "      <th colspan=\"2\" halign=\"left\">head_mw</th>\n",
       "      <th colspan=\"2\" halign=\"left\">oseries1</th>\n",
       "      <th colspan=\"2\" halign=\"left\">oseries2</th>\n",
       "      <th colspan=\"2\" halign=\"left\">oseries3</th>\n",
       "    </tr>\n",
       "    <tr>\n",
       "      <th></th>\n",
       "      <th>0.025</th>\n",
       "      <th>0.975</th>\n",
       "      <th>0.025</th>\n",
       "      <th>0.975</th>\n",
       "      <th>0.025</th>\n",
       "      <th>0.975</th>\n",
       "      <th>0.025</th>\n",
       "      <th>0.975</th>\n",
       "      <th>0.025</th>\n",
       "      <th>0.975</th>\n",
       "    </tr>\n",
       "  </thead>\n",
       "  <tbody>\n",
       "    <tr>\n",
       "      <th>1960-04-29</th>\n",
       "      <td>NaN</td>\n",
       "      <td>NaN</td>\n",
       "      <td>6.331945</td>\n",
       "      <td>9.400323</td>\n",
       "      <td>NaN</td>\n",
       "      <td>NaN</td>\n",
       "      <td>NaN</td>\n",
       "      <td>NaN</td>\n",
       "      <td>NaN</td>\n",
       "      <td>NaN</td>\n",
       "    </tr>\n",
       "    <tr>\n",
       "      <th>1960-04-30</th>\n",
       "      <td>NaN</td>\n",
       "      <td>NaN</td>\n",
       "      <td>6.279898</td>\n",
       "      <td>9.479738</td>\n",
       "      <td>NaN</td>\n",
       "      <td>NaN</td>\n",
       "      <td>NaN</td>\n",
       "      <td>NaN</td>\n",
       "      <td>NaN</td>\n",
       "      <td>NaN</td>\n",
       "    </tr>\n",
       "    <tr>\n",
       "      <th>1960-05-01</th>\n",
       "      <td>NaN</td>\n",
       "      <td>NaN</td>\n",
       "      <td>6.271128</td>\n",
       "      <td>9.445029</td>\n",
       "      <td>NaN</td>\n",
       "      <td>NaN</td>\n",
       "      <td>NaN</td>\n",
       "      <td>NaN</td>\n",
       "      <td>NaN</td>\n",
       "      <td>NaN</td>\n",
       "    </tr>\n",
       "    <tr>\n",
       "      <th>1960-05-02</th>\n",
       "      <td>NaN</td>\n",
       "      <td>NaN</td>\n",
       "      <td>6.316859</td>\n",
       "      <td>9.466888</td>\n",
       "      <td>NaN</td>\n",
       "      <td>NaN</td>\n",
       "      <td>NaN</td>\n",
       "      <td>NaN</td>\n",
       "      <td>NaN</td>\n",
       "      <td>NaN</td>\n",
       "    </tr>\n",
       "    <tr>\n",
       "      <th>1960-05-03</th>\n",
       "      <td>NaN</td>\n",
       "      <td>NaN</td>\n",
       "      <td>6.296053</td>\n",
       "      <td>9.495860</td>\n",
       "      <td>NaN</td>\n",
       "      <td>NaN</td>\n",
       "      <td>NaN</td>\n",
       "      <td>NaN</td>\n",
       "      <td>NaN</td>\n",
       "      <td>NaN</td>\n",
       "    </tr>\n",
       "    <tr>\n",
       "      <th>...</th>\n",
       "      <td>...</td>\n",
       "      <td>...</td>\n",
       "      <td>...</td>\n",
       "      <td>...</td>\n",
       "      <td>...</td>\n",
       "      <td>...</td>\n",
       "      <td>...</td>\n",
       "      <td>...</td>\n",
       "      <td>...</td>\n",
       "      <td>...</td>\n",
       "    </tr>\n",
       "    <tr>\n",
       "      <th>2020-01-17</th>\n",
       "      <td>7.933043</td>\n",
       "      <td>9.598889</td>\n",
       "      <td>NaN</td>\n",
       "      <td>NaN</td>\n",
       "      <td>NaN</td>\n",
       "      <td>NaN</td>\n",
       "      <td>NaN</td>\n",
       "      <td>NaN</td>\n",
       "      <td>NaN</td>\n",
       "      <td>NaN</td>\n",
       "    </tr>\n",
       "    <tr>\n",
       "      <th>2020-01-18</th>\n",
       "      <td>7.953333</td>\n",
       "      <td>9.689158</td>\n",
       "      <td>NaN</td>\n",
       "      <td>NaN</td>\n",
       "      <td>NaN</td>\n",
       "      <td>NaN</td>\n",
       "      <td>NaN</td>\n",
       "      <td>NaN</td>\n",
       "      <td>NaN</td>\n",
       "      <td>NaN</td>\n",
       "    </tr>\n",
       "    <tr>\n",
       "      <th>2020-01-19</th>\n",
       "      <td>7.944720</td>\n",
       "      <td>9.546160</td>\n",
       "      <td>NaN</td>\n",
       "      <td>NaN</td>\n",
       "      <td>NaN</td>\n",
       "      <td>NaN</td>\n",
       "      <td>NaN</td>\n",
       "      <td>NaN</td>\n",
       "      <td>NaN</td>\n",
       "      <td>NaN</td>\n",
       "    </tr>\n",
       "    <tr>\n",
       "      <th>2020-01-20</th>\n",
       "      <td>7.959603</td>\n",
       "      <td>9.655783</td>\n",
       "      <td>NaN</td>\n",
       "      <td>NaN</td>\n",
       "      <td>NaN</td>\n",
       "      <td>NaN</td>\n",
       "      <td>NaN</td>\n",
       "      <td>NaN</td>\n",
       "      <td>NaN</td>\n",
       "      <td>NaN</td>\n",
       "    </tr>\n",
       "    <tr>\n",
       "      <th>2020-01-21</th>\n",
       "      <td>7.890613</td>\n",
       "      <td>9.631837</td>\n",
       "      <td>NaN</td>\n",
       "      <td>NaN</td>\n",
       "      <td>NaN</td>\n",
       "      <td>NaN</td>\n",
       "      <td>NaN</td>\n",
       "      <td>NaN</td>\n",
       "      <td>NaN</td>\n",
       "      <td>NaN</td>\n",
       "    </tr>\n",
       "  </tbody>\n",
       "</table>\n",
       "<p>21817 rows × 10 columns</p>\n",
       "</div>"
      ],
      "text/plain": [
       "            head_nb5             head_mw           oseries1       oseries2  \\\n",
       "               0.025     0.975     0.025     0.975    0.025 0.975    0.025   \n",
       "1960-04-29       NaN       NaN  6.331945  9.400323      NaN   NaN      NaN   \n",
       "1960-04-30       NaN       NaN  6.279898  9.479738      NaN   NaN      NaN   \n",
       "1960-05-01       NaN       NaN  6.271128  9.445029      NaN   NaN      NaN   \n",
       "1960-05-02       NaN       NaN  6.316859  9.466888      NaN   NaN      NaN   \n",
       "1960-05-03       NaN       NaN  6.296053  9.495860      NaN   NaN      NaN   \n",
       "...              ...       ...       ...       ...      ...   ...      ...   \n",
       "2020-01-17  7.933043  9.598889       NaN       NaN      NaN   NaN      NaN   \n",
       "2020-01-18  7.953333  9.689158       NaN       NaN      NaN   NaN      NaN   \n",
       "2020-01-19  7.944720  9.546160       NaN       NaN      NaN   NaN      NaN   \n",
       "2020-01-20  7.959603  9.655783       NaN       NaN      NaN   NaN      NaN   \n",
       "2020-01-21  7.890613  9.631837       NaN       NaN      NaN   NaN      NaN   \n",
       "\n",
       "                 oseries3        \n",
       "           0.975    0.025 0.975  \n",
       "1960-04-29   NaN      NaN   NaN  \n",
       "1960-04-30   NaN      NaN   NaN  \n",
       "1960-05-01   NaN      NaN   NaN  \n",
       "1960-05-02   NaN      NaN   NaN  \n",
       "1960-05-03   NaN      NaN   NaN  \n",
       "...          ...      ...   ...  \n",
       "2020-01-17   NaN      NaN   NaN  \n",
       "2020-01-18   NaN      NaN   NaN  \n",
       "2020-01-19   NaN      NaN   NaN  \n",
       "2020-01-20   NaN      NaN   NaN  \n",
       "2020-01-21   NaN      NaN   NaN  \n",
       "\n",
       "[21817 rows x 10 columns]"
      ]
     },
     "execution_count": 10,
     "metadata": {},
     "output_type": "execute_result"
    }
   ],
   "source": [
    "pstore.apply(\"models\", prediction_interval, kwargs={\"alpha\": 0.05})"
   ]
  },
  {
   "cell_type": "code",
   "execution_count": 11,
   "metadata": {},
   "outputs": [
    {
     "data": {
      "application/vnd.jupyter.widget-view+json": {
       "model_id": "e26d64f78e20425a981d5644372410a1",
       "version_major": 2,
       "version_minor": 0
      },
      "text/plain": [
       "Applying prediction_interval (parallel):   0%|          | 0/5 [00:00<?, ?it/s]"
      ]
     },
     "metadata": {},
     "output_type": "display_data"
    },
    {
     "data": {
      "text/html": [
       "<div>\n",
       "<style scoped>\n",
       "    .dataframe tbody tr th:only-of-type {\n",
       "        vertical-align: middle;\n",
       "    }\n",
       "\n",
       "    .dataframe tbody tr th {\n",
       "        vertical-align: top;\n",
       "    }\n",
       "\n",
       "    .dataframe thead tr th {\n",
       "        text-align: left;\n",
       "    }\n",
       "</style>\n",
       "<table border=\"1\" class=\"dataframe\">\n",
       "  <thead>\n",
       "    <tr>\n",
       "      <th></th>\n",
       "      <th colspan=\"2\" halign=\"left\">head_nb5</th>\n",
       "      <th colspan=\"2\" halign=\"left\">head_mw</th>\n",
       "      <th colspan=\"2\" halign=\"left\">oseries1</th>\n",
       "      <th colspan=\"2\" halign=\"left\">oseries2</th>\n",
       "      <th colspan=\"2\" halign=\"left\">oseries3</th>\n",
       "    </tr>\n",
       "    <tr>\n",
       "      <th></th>\n",
       "      <th>0.025</th>\n",
       "      <th>0.975</th>\n",
       "      <th>0.025</th>\n",
       "      <th>0.975</th>\n",
       "      <th>0.025</th>\n",
       "      <th>0.975</th>\n",
       "      <th>0.025</th>\n",
       "      <th>0.975</th>\n",
       "      <th>0.025</th>\n",
       "      <th>0.975</th>\n",
       "    </tr>\n",
       "  </thead>\n",
       "  <tbody>\n",
       "    <tr>\n",
       "      <th>1960-04-29</th>\n",
       "      <td>NaN</td>\n",
       "      <td>NaN</td>\n",
       "      <td>6.166471</td>\n",
       "      <td>9.669580</td>\n",
       "      <td>NaN</td>\n",
       "      <td>NaN</td>\n",
       "      <td>NaN</td>\n",
       "      <td>NaN</td>\n",
       "      <td>NaN</td>\n",
       "      <td>NaN</td>\n",
       "    </tr>\n",
       "    <tr>\n",
       "      <th>1960-04-30</th>\n",
       "      <td>NaN</td>\n",
       "      <td>NaN</td>\n",
       "      <td>6.345850</td>\n",
       "      <td>9.404890</td>\n",
       "      <td>NaN</td>\n",
       "      <td>NaN</td>\n",
       "      <td>NaN</td>\n",
       "      <td>NaN</td>\n",
       "      <td>NaN</td>\n",
       "      <td>NaN</td>\n",
       "    </tr>\n",
       "    <tr>\n",
       "      <th>1960-05-01</th>\n",
       "      <td>NaN</td>\n",
       "      <td>NaN</td>\n",
       "      <td>6.326241</td>\n",
       "      <td>9.439450</td>\n",
       "      <td>NaN</td>\n",
       "      <td>NaN</td>\n",
       "      <td>NaN</td>\n",
       "      <td>NaN</td>\n",
       "      <td>NaN</td>\n",
       "      <td>NaN</td>\n",
       "    </tr>\n",
       "    <tr>\n",
       "      <th>1960-05-02</th>\n",
       "      <td>NaN</td>\n",
       "      <td>NaN</td>\n",
       "      <td>6.262234</td>\n",
       "      <td>9.440578</td>\n",
       "      <td>NaN</td>\n",
       "      <td>NaN</td>\n",
       "      <td>NaN</td>\n",
       "      <td>NaN</td>\n",
       "      <td>NaN</td>\n",
       "      <td>NaN</td>\n",
       "    </tr>\n",
       "    <tr>\n",
       "      <th>1960-05-03</th>\n",
       "      <td>NaN</td>\n",
       "      <td>NaN</td>\n",
       "      <td>6.121313</td>\n",
       "      <td>9.432487</td>\n",
       "      <td>NaN</td>\n",
       "      <td>NaN</td>\n",
       "      <td>NaN</td>\n",
       "      <td>NaN</td>\n",
       "      <td>NaN</td>\n",
       "      <td>NaN</td>\n",
       "    </tr>\n",
       "    <tr>\n",
       "      <th>...</th>\n",
       "      <td>...</td>\n",
       "      <td>...</td>\n",
       "      <td>...</td>\n",
       "      <td>...</td>\n",
       "      <td>...</td>\n",
       "      <td>...</td>\n",
       "      <td>...</td>\n",
       "      <td>...</td>\n",
       "      <td>...</td>\n",
       "      <td>...</td>\n",
       "    </tr>\n",
       "    <tr>\n",
       "      <th>2020-01-17</th>\n",
       "      <td>7.992446</td>\n",
       "      <td>9.677761</td>\n",
       "      <td>NaN</td>\n",
       "      <td>NaN</td>\n",
       "      <td>NaN</td>\n",
       "      <td>NaN</td>\n",
       "      <td>NaN</td>\n",
       "      <td>NaN</td>\n",
       "      <td>NaN</td>\n",
       "      <td>NaN</td>\n",
       "    </tr>\n",
       "    <tr>\n",
       "      <th>2020-01-18</th>\n",
       "      <td>7.913403</td>\n",
       "      <td>9.675395</td>\n",
       "      <td>NaN</td>\n",
       "      <td>NaN</td>\n",
       "      <td>NaN</td>\n",
       "      <td>NaN</td>\n",
       "      <td>NaN</td>\n",
       "      <td>NaN</td>\n",
       "      <td>NaN</td>\n",
       "      <td>NaN</td>\n",
       "    </tr>\n",
       "    <tr>\n",
       "      <th>2020-01-19</th>\n",
       "      <td>7.934646</td>\n",
       "      <td>9.684876</td>\n",
       "      <td>NaN</td>\n",
       "      <td>NaN</td>\n",
       "      <td>NaN</td>\n",
       "      <td>NaN</td>\n",
       "      <td>NaN</td>\n",
       "      <td>NaN</td>\n",
       "      <td>NaN</td>\n",
       "      <td>NaN</td>\n",
       "    </tr>\n",
       "    <tr>\n",
       "      <th>2020-01-20</th>\n",
       "      <td>7.955579</td>\n",
       "      <td>9.615549</td>\n",
       "      <td>NaN</td>\n",
       "      <td>NaN</td>\n",
       "      <td>NaN</td>\n",
       "      <td>NaN</td>\n",
       "      <td>NaN</td>\n",
       "      <td>NaN</td>\n",
       "      <td>NaN</td>\n",
       "      <td>NaN</td>\n",
       "    </tr>\n",
       "    <tr>\n",
       "      <th>2020-01-21</th>\n",
       "      <td>7.979105</td>\n",
       "      <td>9.694925</td>\n",
       "      <td>NaN</td>\n",
       "      <td>NaN</td>\n",
       "      <td>NaN</td>\n",
       "      <td>NaN</td>\n",
       "      <td>NaN</td>\n",
       "      <td>NaN</td>\n",
       "      <td>NaN</td>\n",
       "      <td>NaN</td>\n",
       "    </tr>\n",
       "  </tbody>\n",
       "</table>\n",
       "<p>21817 rows × 10 columns</p>\n",
       "</div>"
      ],
      "text/plain": [
       "            head_nb5             head_mw           oseries1       oseries2  \\\n",
       "               0.025     0.975     0.025     0.975    0.025 0.975    0.025   \n",
       "1960-04-29       NaN       NaN  6.166471  9.669580      NaN   NaN      NaN   \n",
       "1960-04-30       NaN       NaN  6.345850  9.404890      NaN   NaN      NaN   \n",
       "1960-05-01       NaN       NaN  6.326241  9.439450      NaN   NaN      NaN   \n",
       "1960-05-02       NaN       NaN  6.262234  9.440578      NaN   NaN      NaN   \n",
       "1960-05-03       NaN       NaN  6.121313  9.432487      NaN   NaN      NaN   \n",
       "...              ...       ...       ...       ...      ...   ...      ...   \n",
       "2020-01-17  7.992446  9.677761       NaN       NaN      NaN   NaN      NaN   \n",
       "2020-01-18  7.913403  9.675395       NaN       NaN      NaN   NaN      NaN   \n",
       "2020-01-19  7.934646  9.684876       NaN       NaN      NaN   NaN      NaN   \n",
       "2020-01-20  7.955579  9.615549       NaN       NaN      NaN   NaN      NaN   \n",
       "2020-01-21  7.979105  9.694925       NaN       NaN      NaN   NaN      NaN   \n",
       "\n",
       "                 oseries3        \n",
       "           0.975    0.025 0.975  \n",
       "1960-04-29   NaN      NaN   NaN  \n",
       "1960-04-30   NaN      NaN   NaN  \n",
       "1960-05-01   NaN      NaN   NaN  \n",
       "1960-05-02   NaN      NaN   NaN  \n",
       "1960-05-03   NaN      NaN   NaN  \n",
       "...          ...      ...   ...  \n",
       "2020-01-17   NaN      NaN   NaN  \n",
       "2020-01-18   NaN      NaN   NaN  \n",
       "2020-01-19   NaN      NaN   NaN  \n",
       "2020-01-20   NaN      NaN   NaN  \n",
       "2020-01-21   NaN      NaN   NaN  \n",
       "\n",
       "[21817 rows x 10 columns]"
      ]
     },
     "execution_count": 11,
     "metadata": {},
     "output_type": "execute_result"
    }
   ],
   "source": [
    "pstore.apply(\"models\", prediction_interval, kwargs={\"alpha\": 0.05}, parallel=True)"
   ]
  },
  {
   "cell_type": "markdown",
   "metadata": {},
   "source": [
    "## Get signatures\n",
    "\n",
    "The function `pstore.get_signatures` does not explicitly support parallel processing but can be used in combination with `pstore.apply`"
   ]
  },
  {
   "cell_type": "code",
   "execution_count": 12,
   "metadata": {},
   "outputs": [],
   "source": [
    "signatures = [\n",
    "    \"cv_period_mean\",\n",
    "    \"cv_date_min\",\n",
    "    \"cv_date_max\",\n",
    "    \"cv_fall_rate\",\n",
    "    \"cv_rise_rate\",\n",
    "]"
   ]
  },
  {
   "cell_type": "code",
   "execution_count": 13,
   "metadata": {},
   "outputs": [
    {
     "data": {
      "text/html": [
       "<div>\n",
       "<style scoped>\n",
       "    .dataframe tbody tr th:only-of-type {\n",
       "        vertical-align: middle;\n",
       "    }\n",
       "\n",
       "    .dataframe tbody tr th {\n",
       "        vertical-align: top;\n",
       "    }\n",
       "\n",
       "    .dataframe thead th {\n",
       "        text-align: right;\n",
       "    }\n",
       "</style>\n",
       "<table border=\"1\" class=\"dataframe\">\n",
       "  <thead>\n",
       "    <tr style=\"text-align: right;\">\n",
       "      <th></th>\n",
       "      <th>head_nb5</th>\n",
       "      <th>head_mw</th>\n",
       "      <th>oseries1</th>\n",
       "      <th>oseries2</th>\n",
       "      <th>oseries3</th>\n",
       "    </tr>\n",
       "  </thead>\n",
       "  <tbody>\n",
       "    <tr>\n",
       "      <th>cv_period_mean</th>\n",
       "      <td>0.061879</td>\n",
       "      <td>0.145062</td>\n",
       "      <td>0.013066</td>\n",
       "      <td>0.015199</td>\n",
       "      <td>0.029168</td>\n",
       "    </tr>\n",
       "    <tr>\n",
       "      <th>cv_date_min</th>\n",
       "      <td>0.246021</td>\n",
       "      <td>0.254627</td>\n",
       "      <td>0.145884</td>\n",
       "      <td>0.128636</td>\n",
       "      <td>1.394852</td>\n",
       "    </tr>\n",
       "    <tr>\n",
       "      <th>cv_date_max</th>\n",
       "      <td>1.262425</td>\n",
       "      <td>1.083929</td>\n",
       "      <td>0.300328</td>\n",
       "      <td>0.722945</td>\n",
       "      <td>0.444442</td>\n",
       "    </tr>\n",
       "    <tr>\n",
       "      <th>cv_fall_rate</th>\n",
       "      <td>-1.136450</td>\n",
       "      <td>-1.430200</td>\n",
       "      <td>-0.744797</td>\n",
       "      <td>-0.722718</td>\n",
       "      <td>-1.032837</td>\n",
       "    </tr>\n",
       "    <tr>\n",
       "      <th>cv_rise_rate</th>\n",
       "      <td>1.259450</td>\n",
       "      <td>1.097257</td>\n",
       "      <td>0.862981</td>\n",
       "      <td>0.836678</td>\n",
       "      <td>0.931181</td>\n",
       "    </tr>\n",
       "  </tbody>\n",
       "</table>\n",
       "</div>"
      ],
      "text/plain": [
       "                head_nb5   head_mw  oseries1  oseries2  oseries3\n",
       "cv_period_mean  0.061879  0.145062  0.013066  0.015199  0.029168\n",
       "cv_date_min     0.246021  0.254627  0.145884  0.128636  1.394852\n",
       "cv_date_max     1.262425  1.083929  0.300328  0.722945  0.444442\n",
       "cv_fall_rate   -1.136450 -1.430200 -0.744797 -0.722718 -1.032837\n",
       "cv_rise_rate    1.259450  1.097257  0.862981  0.836678  0.931181"
      ]
     },
     "execution_count": 13,
     "metadata": {},
     "output_type": "execute_result"
    }
   ],
   "source": [
    "pstore.get_signatures(signatures=signatures)"
   ]
  },
  {
   "cell_type": "code",
   "execution_count": 14,
   "metadata": {},
   "outputs": [
    {
     "data": {
      "application/vnd.jupyter.widget-view+json": {
       "model_id": "b96647e8e60642a1a4fa4aec844f0f66",
       "version_major": 2,
       "version_minor": 0
      },
      "text/plain": [
       "Applying get_signatures (parallel):   0%|          | 0/5 [00:00<?, ?it/s]"
      ]
     },
     "metadata": {},
     "output_type": "display_data"
    },
    {
     "data": {
      "text/html": [
       "<div>\n",
       "<style scoped>\n",
       "    .dataframe tbody tr th:only-of-type {\n",
       "        vertical-align: middle;\n",
       "    }\n",
       "\n",
       "    .dataframe tbody tr th {\n",
       "        vertical-align: top;\n",
       "    }\n",
       "\n",
       "    .dataframe thead th {\n",
       "        text-align: right;\n",
       "    }\n",
       "</style>\n",
       "<table border=\"1\" class=\"dataframe\">\n",
       "  <thead>\n",
       "    <tr style=\"text-align: right;\">\n",
       "      <th>get_signatures</th>\n",
       "      <th>head_nb5</th>\n",
       "      <th>head_mw</th>\n",
       "      <th>oseries1</th>\n",
       "      <th>oseries2</th>\n",
       "      <th>oseries3</th>\n",
       "    </tr>\n",
       "  </thead>\n",
       "  <tbody>\n",
       "    <tr>\n",
       "      <th>cv_period_mean</th>\n",
       "      <td>0.061879</td>\n",
       "      <td>0.145062</td>\n",
       "      <td>0.013066</td>\n",
       "      <td>0.015199</td>\n",
       "      <td>0.029168</td>\n",
       "    </tr>\n",
       "    <tr>\n",
       "      <th>cv_date_min</th>\n",
       "      <td>0.246021</td>\n",
       "      <td>0.254627</td>\n",
       "      <td>0.145884</td>\n",
       "      <td>0.128636</td>\n",
       "      <td>1.394852</td>\n",
       "    </tr>\n",
       "    <tr>\n",
       "      <th>cv_date_max</th>\n",
       "      <td>1.262425</td>\n",
       "      <td>1.083929</td>\n",
       "      <td>0.300328</td>\n",
       "      <td>0.722945</td>\n",
       "      <td>0.444442</td>\n",
       "    </tr>\n",
       "    <tr>\n",
       "      <th>cv_fall_rate</th>\n",
       "      <td>-1.136450</td>\n",
       "      <td>-1.430200</td>\n",
       "      <td>-0.744797</td>\n",
       "      <td>-0.722718</td>\n",
       "      <td>-1.032837</td>\n",
       "    </tr>\n",
       "    <tr>\n",
       "      <th>cv_rise_rate</th>\n",
       "      <td>1.259450</td>\n",
       "      <td>1.097257</td>\n",
       "      <td>0.862981</td>\n",
       "      <td>0.836678</td>\n",
       "      <td>0.931181</td>\n",
       "    </tr>\n",
       "  </tbody>\n",
       "</table>\n",
       "</div>"
      ],
      "text/plain": [
       "get_signatures  head_nb5   head_mw  oseries1  oseries2  oseries3\n",
       "cv_period_mean  0.061879  0.145062  0.013066  0.015199  0.029168\n",
       "cv_date_min     0.246021  0.254627  0.145884  0.128636  1.394852\n",
       "cv_date_max     1.262425  1.083929  0.300328  0.722945  0.444442\n",
       "cv_fall_rate   -1.136450 -1.430200 -0.744797 -0.722718 -1.032837\n",
       "cv_rise_rate    1.259450  1.097257  0.862981  0.836678  0.931181"
      ]
     },
     "execution_count": 14,
     "metadata": {},
     "output_type": "execute_result"
    }
   ],
   "source": [
    "pstore.apply(\n",
    "    \"oseries\", pstore.get_signatures, kwargs={\"signatures\": signatures}, parallel=True\n",
    ")"
   ]
  },
  {
   "cell_type": "markdown",
   "metadata": {},
   "source": [
    "## Load models\n",
    "\n",
    "Load models in parallel."
   ]
  },
  {
   "cell_type": "code",
   "execution_count": 15,
   "metadata": {},
   "outputs": [
    {
     "data": {
      "application/vnd.jupyter.widget-view+json": {
       "model_id": "9607e2a2310a43d3b66bf01c2a5f7b2d",
       "version_major": 2,
       "version_minor": 0
      },
      "text/plain": [
       "Applying get_models:   0%|          | 0/5 [00:00<?, ?it/s]"
      ]
     },
     "metadata": {},
     "output_type": "display_data"
    },
    {
     "data": {
      "text/plain": [
       "{'head_nb5': Model(oseries=head_nb5, name=head_nb5, constant=True, noisemodel=False),\n",
       " 'head_mw': Model(oseries=head_mw, name=head_mw, constant=True, noisemodel=False),\n",
       " 'oseries1': Model(oseries=oseries1, name=oseries1, constant=True, noisemodel=False),\n",
       " 'oseries2': Model(oseries=oseries2, name=oseries2, constant=True, noisemodel=False),\n",
       " 'oseries3': Model(oseries=oseries3, name=oseries3, constant=True, noisemodel=False)}"
      ]
     },
     "execution_count": 15,
     "metadata": {},
     "output_type": "execute_result"
    }
   ],
   "source": [
    "pstore.apply(\"models\", pstore.get_models, fancy_output=True)"
   ]
  },
  {
   "cell_type": "markdown",
   "metadata": {},
   "source": [
    "The `max_workers` keyword argument sets the number of workers that are spawned. The default value is often fine, but it can be set explicitly.\n",
    "\n",
    "The following works for `PasConnector`. See alternative code below for `ArcticDBConnector`.  "
   ]
  },
  {
   "cell_type": "code",
   "execution_count": 16,
   "metadata": {},
   "outputs": [
    {
     "data": {
      "application/vnd.jupyter.widget-view+json": {
       "model_id": "49a9aa0c0b9341bbb884a7839ae59149",
       "version_major": 2,
       "version_minor": 0
      },
      "text/plain": [
       "Applying get_models (parallel):   0%|          | 0/5 [00:00<?, ?it/s]"
      ]
     },
     "metadata": {},
     "output_type": "display_data"
    },
    {
     "data": {
      "text/plain": [
       "{'head_nb5': Model(oseries=head_nb5, name=head_nb5, constant=True, noisemodel=False),\n",
       " 'head_mw': Model(oseries=head_mw, name=head_mw, constant=True, noisemodel=False),\n",
       " 'oseries1': Model(oseries=oseries1, name=oseries1, constant=True, noisemodel=False),\n",
       " 'oseries2': Model(oseries=oseries2, name=oseries2, constant=True, noisemodel=False),\n",
       " 'oseries3': Model(oseries=oseries3, name=oseries3, constant=True, noisemodel=False)}"
      ]
     },
     "execution_count": 16,
     "metadata": {},
     "output_type": "execute_result"
    }
   ],
   "source": [
    "pstore.apply(\n",
    "    \"models\", pstore.get_models, fancy_output=True, parallel=True, max_workers=5\n",
    ")"
   ]
  },
  {
   "cell_type": "markdown",
   "metadata": {},
   "source": [
    "## ArcticDBConnector workaround\n",
    "\n",
    "For `ArcticDBConnector`, the underlying database connection objects cannot be pickled, which is required for Python's multiprocessing. Therefore, passing methods directly from the `PastaStore` or `ArcticDBConnector` classes will not work in parallel mode.\n",
    "\n",
    "**The workaround:** The `_parallel()` method uses an initializer that creates a new connector instance in each worker process and stores it in a global `conn` variable. Your custom functions can then access this connector to retrieve data from the database.\n",
    "\n",
    "This is the standard Python pattern for using unpicklable objects with multiprocessing. See the [Python documentation](https://docs.python.org/3/library/concurrent.futures.html#processpoolexecutor) for more details.\n",
    "\n",
    "**Example:** Write a simple function that uses the global `conn` variable to access the database:"
   ]
  },
  {
   "cell_type": "code",
   "execution_count": null,
   "metadata": {},
   "outputs": [],
   "source": [
    "# Simple function to get models from database\n",
    "def get_model(model_name):\n",
    "    \"\"\"Get model using global connector (ArcticDBConnector workaround).\n",
    "\n",
    "    The global 'conn' variable is set by the _parallel() initializer\n",
    "    in each worker process, providing access to an ArcticDBConnector instance.\n",
    "    \"\"\"\n",
    "    return conn.get_model(model_name)"
   ]
  },
  {
   "cell_type": "code",
   "execution_count": 18,
   "metadata": {},
   "outputs": [
    {
     "data": {
      "application/vnd.jupyter.widget-view+json": {
       "model_id": "151962b3acb449ecbbd5115508337371",
       "version_major": 2,
       "version_minor": 0
      },
      "text/plain": [
       "Applying get_model (parallel):   0%|          | 0/5 [00:00<?, ?it/s]"
      ]
     },
     "metadata": {},
     "output_type": "display_data"
    },
    {
     "data": {
      "text/plain": [
       "{'head_nb5': Model(oseries=head_nb5, name=head_nb5, constant=True, noisemodel=False),\n",
       " 'head_mw': Model(oseries=head_mw, name=head_mw, constant=True, noisemodel=False),\n",
       " 'oseries1': Model(oseries=oseries1, name=oseries1, constant=True, noisemodel=False),\n",
       " 'oseries2': Model(oseries=oseries2, name=oseries2, constant=True, noisemodel=False),\n",
       " 'oseries3': Model(oseries=oseries3, name=oseries3, constant=True, noisemodel=False)}"
      ]
     },
     "execution_count": 18,
     "metadata": {},
     "output_type": "execute_result"
    }
   ],
   "source": [
    "pstore.apply(\"models\", get_model, fancy_output=True, parallel=True, max_workers=5)"
   ]
  },
  {
   "cell_type": "markdown",
   "metadata": {},
   "source": [
    "Clean up temporary pastastore."
   ]
  },
  {
   "cell_type": "code",
   "execution_count": 19,
   "metadata": {},
   "outputs": [
    {
     "name": "stdout",
     "output_type": "stream",
     "text": [
      "\u001b[32mDeleting PasConnector database: 'my_connector' ... \u001b[0m\n",
      "\u001b[32mDone!\u001b[0m\n"
     ]
    }
   ],
   "source": [
    "pst.util.delete_pastastore(pstore)"
   ]
  }
 ],
 "metadata": {
  "kernelspec": {
   "display_name": "pastastore",
   "language": "python",
   "name": "python3"
  },
  "language_info": {
   "codemirror_mode": {
    "name": "ipython",
    "version": 3
   },
   "file_extension": ".py",
   "mimetype": "text/x-python",
   "name": "python",
   "nbconvert_exporter": "python",
   "pygments_lexer": "ipython3",
   "version": "3.13.7"
  }
 },
 "nbformat": 4,
 "nbformat_minor": 2
}
